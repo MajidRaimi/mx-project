{
 "cells": [
  {
   "cell_type": "code",
   "execution_count": 1,
   "metadata": {},
   "outputs": [
    {
     "name": "stderr",
     "output_type": "stream",
     "text": [
      "/Users/raimi/Playground/wall-segmentation/env/lib/python3.13/site-packages/tqdm/auto.py:21: TqdmWarning: IProgress not found. Please update jupyter and ipywidgets. See https://ipywidgets.readthedocs.io/en/stable/user_install.html\n",
      "  from .autonotebook import tqdm as notebook_tqdm\n"
     ]
    }
   ],
   "source": [
    "from PIL import Image\n",
    "from ultralytics import SAM\n",
    "from package import draw_points, connect_points, pick_wall_point, estimate_wall_distance, save_image, save_image_with_point, draw_result_on_image"
   ]
  },
  {
   "cell_type": "code",
   "execution_count": 7,
   "metadata": {},
   "outputs": [
    {
     "name": "stderr",
     "output_type": "stream",
     "text": [
      "Device set to use cpu\n"
     ]
    }
   ],
   "source": [
    "if __name__ == \"__main__\":\n",
    "    IMAGE_PATH = \"./assets/CleanShot 1446-10-30 at 19.45.09@2x.png\"\n",
    "    SAM_WEIGHTS = \"sam2_b.pt\"\n",
    "\n",
    "    image = Image.open(IMAGE_PATH).convert(\"RGB\")\n",
    "\n",
    "    bw_image, pt = pick_wall_point(image)\n",
    "\n",
    "    sam = SAM(SAM_WEIGHTS)\n",
    "    results = sam.predict(\n",
    "        source=IMAGE_PATH,\n",
    "        points=[pt],\n",
    "        save=False,\n",
    "        verbose=False\n",
    "    )\n",
    "\n",
    "    save_image(bw_image, \"./demo/01_black_and_white.jpg\")\n",
    "    save_image_with_point(image, pt, \"./demo/02_best_point.jpg\")"
   ]
  },
  {
   "cell_type": "code",
   "execution_count": 8,
   "metadata": {},
   "outputs": [],
   "source": [
    "image_out = draw_result_on_image(image, results)\n",
    "save_image(image_out, \"./demo/03_segmentation.jpg\")"
   ]
  },
  {
   "cell_type": "code",
   "execution_count": 9,
   "metadata": {},
   "outputs": [],
   "source": [
    "GAP = 30"
   ]
  },
  {
   "cell_type": "code",
   "execution_count": 10,
   "metadata": {},
   "outputs": [],
   "source": [
    "img_out, grid = draw_points(results, IMAGE_PATH, GAP)\n",
    "save_image(img_out, \"./demo/04_points.jpg\")"
   ]
  },
  {
   "cell_type": "code",
   "execution_count": 11,
   "metadata": {},
   "outputs": [],
   "source": [
    "img_out, grid = connect_points(grid ,results, IMAGE_PATH, GAP)\n",
    "save_image(img_out, \"./demo/05_path.jpg\")"
   ]
  },
  {
   "cell_type": "code",
   "execution_count": null,
   "metadata": {},
   "outputs": [],
   "source": []
  },
  {
   "cell_type": "code",
   "execution_count": null,
   "metadata": {},
   "outputs": [],
   "source": []
  }
 ],
 "metadata": {
  "kernelspec": {
   "display_name": "env",
   "language": "python",
   "name": "python3"
  },
  "language_info": {
   "codemirror_mode": {
    "name": "ipython",
    "version": 3
   },
   "file_extension": ".py",
   "mimetype": "text/x-python",
   "name": "python",
   "nbconvert_exporter": "python",
   "pygments_lexer": "ipython3",
   "version": "3.13.3"
  }
 },
 "nbformat": 4,
 "nbformat_minor": 2
}
