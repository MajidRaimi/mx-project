{
 "cells": [
  {
   "cell_type": "code",
   "execution_count": null,
   "id": "80612376",
   "metadata": {},
   "outputs": [
    {
     "name": "stderr",
     "output_type": "stream",
     "text": [
      "[INFO] tello.py - 438 - Send command: 'takeoff'\n",
      "[INFO] tello.py - 462 - Response takeoff: 'ok'\n"
     ]
    }
   ],
   "source": [
    "from services import Drone\n",
    "Drone.takeoff()"
   ]
  },
  {
   "cell_type": "code",
   "execution_count": null,
   "id": "da9d22eb",
   "metadata": {},
   "outputs": [],
   "source": []
  }
 ],
 "metadata": {
  "kernelspec": {
   "display_name": "env",
   "language": "python",
   "name": "python3"
  },
  "language_info": {
   "codemirror_mode": {
    "name": "ipython",
    "version": 3
   },
   "file_extension": ".py",
   "mimetype": "text/x-python",
   "name": "python",
   "nbconvert_exporter": "python",
   "pygments_lexer": "ipython3",
   "version": "3.13.5"
  }
 },
 "nbformat": 4,
 "nbformat_minor": 5
}
